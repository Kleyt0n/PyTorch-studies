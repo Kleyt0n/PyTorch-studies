{
 "cells": [
  {
   "cell_type": "markdown",
   "metadata": {
    "id": "mm0i0RwRUWam"
   },
   "source": [
    "# Week 1 - Overview of Tensors"
   ]
  },
  {
   "cell_type": "code",
   "execution_count": null,
   "metadata": {
    "id": "hzX2h9oAUWax"
   },
   "outputs": [],
   "source": [
    "import torch\n",
    "import numpy as np\n",
    "import pandas as pd"
   ]
  },
  {
   "cell_type": "code",
   "execution_count": null,
   "metadata": {
    "id": "6Qk5di22UWa0"
   },
   "outputs": [],
   "source": [
    "a = torch.Tensor([1,2,3,4,5])"
   ]
  },
  {
   "cell_type": "code",
   "execution_count": null,
   "metadata": {
    "id": "Ny3JKu3OUWa1",
    "outputId": "ef5edc24-2cbb-4da6-8671-3f969e2eca20"
   },
   "outputs": [
    {
     "data": {
      "text/plain": [
       "tensor([[1.],\n",
       "        [2.],\n",
       "        [3.],\n",
       "        [4.],\n",
       "        [5.]])"
      ]
     },
     "execution_count": 4,
     "metadata": {},
     "output_type": "execute_result"
    }
   ],
   "source": [
    "a.view(5,1)"
   ]
  },
  {
   "cell_type": "code",
   "execution_count": null,
   "metadata": {
    "id": "s58zK-0KUWa3",
    "outputId": "8cd4fb36-86f5-4b60-ce14-e2588dea51aa"
   },
   "outputs": [
    {
     "data": {
      "text/plain": [
       "tensor([[1., 2., 3., 4., 5.]])"
      ]
     },
     "execution_count": 8,
     "metadata": {},
     "output_type": "execute_result"
    }
   ],
   "source": [
    "a.view(1,5)"
   ]
  },
  {
   "cell_type": "code",
   "execution_count": null,
   "metadata": {
    "id": "er4KZX2dUWa5",
    "outputId": "d9b2928a-6e1f-4011-fec8-279d39ae2dfd"
   },
   "outputs": [
    {
     "name": "stdout",
     "output_type": "stream",
     "text": [
      "[0 1 2 4 5 6]\n",
      "tensor([0, 1, 2, 4, 5, 6], dtype=torch.int32)\n",
      "[0 1 2 4 5 6]\n"
     ]
    }
   ],
   "source": [
    "# convert np.array to torch\n",
    "\n",
    "nparray = np.array([0,1,2,4,5,6])\n",
    "ttensor = torch.from_numpy(nparray)\n",
    "back_np = ttensor.numpy()\n",
    "\n",
    "print(nparray)\n",
    "print(ttensor)\n",
    "print(back_np)"
   ]
  },
  {
   "cell_type": "code",
   "execution_count": null,
   "metadata": {
    "id": "66EcKeyUUWa6",
    "outputId": "bd99c3cf-38f7-4ba5-fbcd-981f1cfef4da"
   },
   "outputs": [
    {
     "name": "stdout",
     "output_type": "stream",
     "text": [
      "0     0.1\n",
      "1     2.0\n",
      "2     3.0\n",
      "3    10.1\n",
      "dtype: float64\n",
      "tensor([ 0.1000,  2.0000,  3.0000, 10.1000], dtype=torch.float64)\n"
     ]
    }
   ],
   "source": [
    "pd_series = pd.Series([0.1,2,3,10.1])\n",
    "pd_to_torch = torch.from_numpy(pd_series.values)\n",
    "\n",
    "print(pd_series)\n",
    "print(pd_to_torch)"
   ]
  },
  {
   "cell_type": "code",
   "execution_count": null,
   "metadata": {
    "id": "EB_GWhc2UWa7",
    "outputId": "0181ab00-b8ff-4965-fc08-a7b686fff3fa"
   },
   "outputs": [
    {
     "data": {
      "text/plain": [
       "5"
      ]
     },
     "execution_count": 29,
     "metadata": {},
     "output_type": "execute_result"
    }
   ],
   "source": [
    "new = torch.tensor([5,2,6,1])\n",
    "\n",
    "new[0]\n",
    "new[0].item()"
   ]
  },
  {
   "cell_type": "code",
   "execution_count": null,
   "metadata": {
    "id": "WvAOk4uvUWa8",
    "outputId": "80eb0a85-ff64-434c-f1ed-2ceb2db274bd"
   },
   "outputs": [
    {
     "name": "stdout",
     "output_type": "stream",
     "text": [
      "tensor([1, 1])\n",
      "tensor([0, 0])\n",
      "tensor([4, 0])\n"
     ]
    }
   ],
   "source": [
    "u = torch.tensor([0,1])\n",
    "v = torch.tensor([1,0])\n",
    "\n",
    "print(u+v)\n",
    "print(u*v)\n",
    "print(4*v)"
   ]
  },
  {
   "cell_type": "code",
   "execution_count": null,
   "metadata": {
    "id": "QVtbjDLwUWbA",
    "outputId": "8776b27b-ad66-4af4-9bc5-41e850d35838"
   },
   "outputs": [
    {
     "data": {
      "text/plain": [
       "4"
      ]
     },
     "execution_count": 41,
     "metadata": {},
     "output_type": "execute_result"
    }
   ],
   "source": [
    "# universal functions\n",
    "\n",
    "b = torch.tensor([1,-2,3,4,5])\n",
    "b[3].item()"
   ]
  },
  {
   "cell_type": "code",
   "execution_count": null,
   "metadata": {
    "id": "vaYoNEOFUWbC",
    "outputId": "81c8b8d2-1e14-468a-87a9-6dc8d4bafe0a"
   },
   "outputs": [
    {
     "data": {
      "text/plain": [
       "tensor([-2., -1.,  0.,  1.,  2.])"
      ]
     },
     "execution_count": 45,
     "metadata": {},
     "output_type": "execute_result"
    }
   ],
   "source": [
    "# linspace\n",
    "\n",
    "torch.linspace(-2,2,5)"
   ]
  },
  {
   "cell_type": "code",
   "execution_count": null,
   "metadata": {
    "id": "YwsB8FBbUWbC",
    "outputId": "96ecc3e1-fa45-4276-a9fa-8d1314b112ec"
   },
   "outputs": [
    {
     "data": {
      "text/plain": [
       "[<matplotlib.lines.Line2D at 0x2c90edc3b50>]"
      ]
     },
     "execution_count": 13,
     "metadata": {},
     "output_type": "execute_result"
    },
    {
     "data": {
      "image/png": "[encoded data removed]",
      "text/plain": [
       "<Figure size 432x288 with 1 Axes>"
      ]
     },
     "metadata": {
      "needs_background": "light"
     },
     "output_type": "display_data"
    }
   ],
   "source": [
    "# plotting math function\n",
    "import matplotlib.pyplot as plt\n",
    "%matplotlib inline\n",
    "\n",
    "x = torch.linspace(0,10*np.pi,100)\n",
    "y = torch.sin(x)\n",
    "plt.plot(x.numpy(), y.numpy())"
   ]
  },
  {
   "cell_type": "code",
   "execution_count": null,
   "metadata": {
    "id": "eyVklsQXUWbD",
    "outputId": "342da0dd-37fc-42a4-9afc-89b04d1652cc"
   },
   "outputs": [
    {
     "data": {
      "text/plain": [
       "tensor(2)"
      ]
     },
     "execution_count": 60,
     "metadata": {},
     "output_type": "execute_result"
    }
   ],
   "source": [
    "u=torch.tensor([1,2])\n",
    "v=torch.tensor([0,1])\n",
    "torch.dot(u,v)"
   ]
  },
  {
   "cell_type": "code",
   "execution_count": null,
   "metadata": {
    "id": "itxn-E2BUWbE",
    "outputId": "8d46bde1-3970-4bf4-dad4-3ca44c2d3e2f"
   },
   "outputs": [
    {
     "name": "stdout",
     "output_type": "stream",
     "text": [
      "tensor([[11, 12, 13],\n",
      "        [21, 22, 23],\n",
      "        [31, 32, 33]])\n",
      "2\n",
      "torch.Size([3, 3])\n",
      "torch.Size([3, 3])\n",
      "9\n"
     ]
    }
   ],
   "source": [
    "# two dimensional tensors\n",
    "a = [[11,12,13],[21,22,23],[31,32,33]]\n",
    "A = torch.tensor(a)\n",
    "print(A)\n",
    "print(A.ndimension())\n",
    "print(A.shape)\n",
    "print(A.size())\n",
    "print(A.numel())"
   ]
  },
  {
   "cell_type": "code",
   "execution_count": null,
   "metadata": {
    "id": "3nl3MjIwUWbF",
    "outputId": "c421337c-34cb-49d4-957f-606e449fc815"
   },
   "outputs": [
    {
     "data": {
      "text/plain": [
       "tensor(13)"
      ]
     },
     "execution_count": 69,
     "metadata": {},
     "output_type": "execute_result"
    }
   ],
   "source": [
    "A[0][2]"
   ]
  },
  {
   "cell_type": "code",
   "execution_count": null,
   "metadata": {
    "id": "DInczMgGUWbG",
    "outputId": "e00b45ed-a29c-4f2c-8ee1-902e78576d07"
   },
   "outputs": [
    {
     "name": "stdout",
     "output_type": "stream",
     "text": [
      "tensor([[0, 2],\n",
      "        [0, 2]])\n"
     ]
    }
   ],
   "source": [
    "A = torch.tensor([[0,1,1],[1,0,1]])\n",
    "B = torch.tensor([[1,1],[1,1],[-1,1]])\n",
    "C = torch.mm(A,B)\n",
    "print(C)"
   ]
  },
  {
   "cell_type": "code",
   "execution_count": null,
   "metadata": {
    "id": "mTX3X4lRUWbG",
    "outputId": "8293537d-9fdc-472e-e5e1-7037fc333162"
   },
   "outputs": [
    {
     "data": {
      "text/plain": [
       "tensor(4.)"
      ]
     },
     "execution_count": 76,
     "metadata": {},
     "output_type": "execute_result"
    }
   ],
   "source": [
    "# Differentiation in Pytorch\n",
    "x = torch.tensor(2.0, requires_grad=True)\n",
    "y = x**2\n",
    "y.backward()\n",
    "x.grad"
   ]
  },
  {
   "cell_type": "code",
   "execution_count": null,
   "metadata": {
    "id": "QI2C-A4TUWbH",
    "outputId": "8a054a3a-2942-4640-8ea6-b00734e99d9c"
   },
   "outputs": [
    {
     "data": {
      "text/plain": [
       "tensor(6.)"
      ]
     },
     "execution_count": 77,
     "metadata": {},
     "output_type": "execute_result"
    }
   ],
   "source": [
    "x = torch.tensor(2.0, requires_grad = True)\n",
    "y = x**2 + 2*x +1\n",
    "\n",
    "y.backward()\n",
    "x.grad"
   ]
  },
  {
   "cell_type": "code",
   "execution_count": null,
   "metadata": {
    "id": "jFvJPoTsUWbH",
    "outputId": "effeaeff-31e8-4e0b-d6d6-69ba21a21aad"
   },
   "outputs": [
    {
     "data": {
      "text/plain": [
       "tensor(4.)"
      ]
     },
     "execution_count": 80,
     "metadata": {},
     "output_type": "execute_result"
    }
   ],
   "source": [
    "# Partial derivative\n",
    "u = torch.tensor(1.0, requires_grad=True)\n",
    "v = torch.tensor(2.0, requires_grad=True)\n",
    "\n",
    "f = u*v + u**2\n",
    "f.backward()\n",
    "u.grad"
   ]
  },
  {
   "cell_type": "markdown",
   "metadata": {
    "id": "HXfRhpslUWbI"
   },
   "source": [
    "The <code>torch.manual_seed()</code> is for forcing the random function to give the same number every time we try to recompile it."
   ]
  },
  {
   "cell_type": "code",
   "execution_count": null,
   "metadata": {
    "id": "aO_-srS7UWbI",
    "outputId": "5bb0b64f-d68a-4495-ac02-c341965132d1"
   },
   "outputs": [
    {
     "data": {
      "text/plain": [
       "<torch._C.Generator at 0x1c05841fdf0>"
      ]
     },
     "execution_count": 25,
     "metadata": {},
     "output_type": "execute_result"
    }
   ],
   "source": [
    "import torch\n",
    "from torch.utils.data import Dataset\n",
    "torch.manual_seed(1)"
   ]
  },
  {
   "cell_type": "code",
   "execution_count": null,
   "metadata": {
    "id": "3kv5_XFBUWbJ"
   },
   "outputs": [],
   "source": [
    "class toy_set(Dataset):\n",
    "    def __init__(self, length=100, transform=None):\n",
    "        \n",
    "        self.x = 2*torch.ones(length,2)\n",
    "        self.y = torch.ones(length,1)\n",
    "        self.len = length\n",
    "        self.transform = transform\n",
    "    \n",
    "    def __getitem__(self,index):\n",
    "        sample = self.x[index], self.y[index]\n",
    "        if self.transform:\n",
    "                sample = self.transform(sample)\n",
    "        return sample\n",
    "    \n",
    "    def __len__(self):\n",
    "        \n",
    "        return self.len"
   ]
  },
  {
   "cell_type": "code",
   "execution_count": null,
   "metadata": {
    "id": "H8mq5WT7UWbK",
    "outputId": "f55e490f-f135-4490-d952-6e294f6a72f4"
   },
   "outputs": [
    {
     "name": "stdout",
     "output_type": "stream",
     "text": [
      "0 x: tensor([2., 2.]) y: tensor([1.])\n",
      "1 x: tensor([2., 2.]) y: tensor([1.])\n",
      "2 x: tensor([2., 2.]) y: tensor([1.])\n"
     ]
    }
   ],
   "source": [
    "dataset = toy_set()\n",
    "for i in range(3):\n",
    "    x,y = dataset[i]\n",
    "    print(i,'x:',x,'y:',y)"
   ]
  },
  {
   "cell_type": "code",
   "execution_count": null,
   "metadata": {
    "id": "L5FYjxuGUWbK"
   },
   "outputs": [],
   "source": [
    "# transforms\n",
    "class add_mult(object):\n",
    "    \n",
    "    # constructor\n",
    "    def __init__(self, addx=1,muly=1):\n",
    "        self.addx = addx\n",
    "        self.muly = muly\n",
    "    \n",
    "    # executor\n",
    "    def __call__(self, sample):\n",
    "        x = sample[0]\n",
    "        y = sample[1]\n",
    "        x = x+self.addx\n",
    "        y = y*self.muly\n",
    "        sample = x,y\n",
    "        return sample"
   ]
  },
  {
   "cell_type": "code",
   "execution_count": null,
   "metadata": {
    "id": "uTpauTgtUWbL",
    "outputId": "c056331e-8724-4616-dddc-310b2728f673"
   },
   "outputs": [
    {
     "name": "stdout",
     "output_type": "stream",
     "text": [
      "tensor([3., 3.]) tensor([1.])\n"
     ]
    }
   ],
   "source": [
    "dataset = toy_set()\n",
    "a_m = add_mult()\n",
    "x_,y_ = a_m(dataset[0])\n",
    "\n",
    "print(x_,y_)"
   ]
  },
  {
   "cell_type": "code",
   "execution_count": null,
   "metadata": {
    "id": "COOjXjPdUWbL",
    "outputId": "003cdc61-47a9-43d3-e072-a8087c17e574"
   },
   "outputs": [
    {
     "data": {
      "text/plain": [
       "(tensor([3., 3.]), tensor([1.]))"
      ]
     },
     "execution_count": 13,
     "metadata": {},
     "output_type": "execute_result"
    }
   ],
   "source": [
    "dataset_= toy_set(transform = a_m)\n",
    "dataset_[0]"
   ]
  },
  {
   "cell_type": "code",
   "execution_count": null,
   "metadata": {
    "id": "SPgvMh2JUWbM"
   },
   "outputs": [],
   "source": [
    "# transforms compose\n",
    "class mult(object):\n",
    "    def __init__(self,mul=100):\n",
    "        self.mul = mul\n",
    "    \n",
    "    def __call__(self, sample):\n",
    "        x = sample[0]\n",
    "        y = sample[1]\n",
    "        x = x*self.mul\n",
    "        y = y*self.mul\n",
    "        sample = x,y\n",
    "        return sample"
   ]
  },
  {
   "cell_type": "code",
   "execution_count": null,
   "metadata": {
    "id": "d1Rl920XUWbM"
   },
   "outputs": [],
   "source": [
    "from torchvision import transforms"
   ]
  },
  {
   "cell_type": "code",
   "execution_count": null,
   "metadata": {
    "id": "S8EJ3KPqUWbN"
   },
   "outputs": [],
   "source": [
    "data_transform = transforms.Compose([add_mult(),mult()])"
   ]
  },
  {
   "cell_type": "code",
   "execution_count": null,
   "metadata": {
    "id": "HK5Do-pPUWbN",
    "outputId": "5867b9ed-2313-4cbf-c6b6-ddf90367d491"
   },
   "outputs": [
    {
     "name": "stdout",
     "output_type": "stream",
     "text": [
      "(tensor([2., 2.]), tensor([1.]))\n",
      "tensor([300., 300.]) tensor([100.])\n"
     ]
    }
   ],
   "source": [
    "print(dataset[0])\n",
    "\n",
    "x_, y_ = data_transform(dataset[0])\n",
    "print(x_,y_)"
   ]
  },
  {
   "cell_type": "code",
   "execution_count": null,
   "metadata": {
    "id": "vEdCR_14UWbO",
    "outputId": "dec9afc2-e4fa-4db7-b06e-e817057d216b"
   },
   "outputs": [
    {
     "name": "stdout",
     "output_type": "stream",
     "text": [
      "(tensor([300., 300.]), tensor([100.]))\n"
     ]
    }
   ],
   "source": [
    "data_set_tr = toy_set(transform=data_transform)\n",
    "print(data_set_tr[0])"
   ]
  },
  {
   "cell_type": "markdown",
   "metadata": {
    "id": "tYll5IfgUWbQ"
   },
   "source": [
    "## Images"
   ]
  },
  {
   "cell_type": "code",
   "execution_count": null,
   "metadata": {
    "id": "lju66WWOUWbR"
   },
   "outputs": [],
   "source": [
    "# Datasets\n",
    "import torch\n",
    "import numpy as np\n",
    "import pandas as pd\n",
    "from torchvision import transforms\n",
    "from PIL import Image\n",
    "import os\n",
    "import matplotlib.pyplot as plt\n",
    "from matplotlib.pyplot import imshow\n",
    "from torch.utils.data import Dataset, DataLoader\n",
    "import wget"
   ]
  },
  {
   "cell_type": "code",
   "execution_count": null,
   "metadata": {
    "id": "7wBFkc6JUWbS",
    "outputId": "7862f283-244c-4d3e-b2fb-4dc255e23391"
   },
   "outputs": [
    {
     "name": "stdout",
     "output_type": "stream",
     "text": [
      "100% [..........................................................................] 1680905 / 1680905"
     ]
    }
   ],
   "source": [
    "url = 'https://cf-courses-data.s3.us.cloud-object-storage.appdomain.cloud/IBMDeveloperSkillsNetwork-DL0110EN-SkillsNetwork/labs/Week1/data/img.tar.gz'\n",
    "data = wget.download(url)\n",
    "\n",
    "url_index = 'https://cf-courses-data.s3.us.cloud-object-storage.appdomain.cloud/IBMDeveloperSkillsNetwork-DL0110EN-SkillsNetwork/labs/Week1/data/index.csv'\n",
    "data_index = wget.download(url_index)"
   ]
  },
  {
   "cell_type": "code",
   "execution_count": null,
   "metadata": {
    "id": "bnDQfa46UWbS"
   },
   "outputs": [],
   "source": [
    "wd = \"C:/Users/Dinho/Google Drive/SummerJobLondon/summer2021/study_code/PyTorchStudies/data\"\n",
    "csv_file = 'index.csv'\n",
    "csv_path = os.path.join(wd, csv_file)"
   ]
  },
  {
   "cell_type": "code",
   "execution_count": null,
   "metadata": {
    "id": "Uh5rZwVhUWbT",
    "outputId": "799d8f0d-dfcd-451a-f5f6-feaabf2ee75f"
   },
   "outputs": [
    {
     "data": {
      "text/html": [
       "<div>\n",
       "<style scoped>\n",
       "    .dataframe tbody tr th:only-of-type {\n",
       "        vertical-align: middle;\n",
       "    }\n",
       "\n",
       "    .dataframe tbody tr th {\n",
       "        vertical-align: top;\n",
       "    }\n",
       "\n",
       "    .dataframe thead th {\n",
       "        text-align: right;\n",
       "    }\n",
       "</style>\n",
       "<table border=\"1\" class=\"dataframe\">\n",
       "  <thead>\n",
       "    <tr style=\"text-align: right;\">\n",
       "      <th></th>\n",
       "      <th>category</th>\n",
       "      <th>image</th>\n",
       "    </tr>\n",
       "  </thead>\n",
       "  <tbody>\n",
       "    <tr>\n",
       "      <th>0</th>\n",
       "      <td>Ankle boot</td>\n",
       "      <td>img/fashion0.png</td>\n",
       "    </tr>\n",
       "    <tr>\n",
       "      <th>1</th>\n",
       "      <td>T-shirt</td>\n",
       "      <td>img/fashion1.png</td>\n",
       "    </tr>\n",
       "    <tr>\n",
       "      <th>2</th>\n",
       "      <td>T-shirt</td>\n",
       "      <td>img/fashion2.png</td>\n",
       "    </tr>\n",
       "    <tr>\n",
       "      <th>3</th>\n",
       "      <td>Dress</td>\n",
       "      <td>img/fashion3.png</td>\n",
       "    </tr>\n",
       "    <tr>\n",
       "      <th>4</th>\n",
       "      <td>T-shirt</td>\n",
       "      <td>img/fashion4.png</td>\n",
       "    </tr>\n",
       "  </tbody>\n",
       "</table>\n",
       "</div>"
      ],
      "text/plain": [
       "     category             image\n",
       "0  Ankle boot  img/fashion0.png\n",
       "1     T-shirt  img/fashion1.png\n",
       "2     T-shirt  img/fashion2.png\n",
       "3       Dress  img/fashion3.png\n",
       "4     T-shirt  img/fashion4.png"
      ]
     },
     "execution_count": 22,
     "metadata": {},
     "output_type": "execute_result"
    }
   ],
   "source": [
    "#data_name = pd.read_csv('https://cf-courses-data.s3.us.cloud-object-storage.appdomain.cloud/IBMDeveloperSkillsNetwork-DL0110EN-SkillsNetwork/labs/Week1/data/index.csv')\n",
    "\n",
    "data_name = pd.read_csv(csv_path)\n",
    "data_name.head()"
   ]
  },
  {
   "cell_type": "code",
   "execution_count": null,
   "metadata": {
    "id": "O70Mh3WeUWbT",
    "outputId": "09159d29-03ac-42c5-e2df-365d44baa09c"
   },
   "outputs": [
    {
     "name": "stdout",
     "output_type": "stream",
     "text": [
      "File name: img/fashion1.png\n",
      "Class or y: T-shirt\n"
     ]
    }
   ],
   "source": [
    "print('File name:', data_name.iloc[1,1])\n",
    "print('Class or y:', data_name.iloc[1,0])"
   ]
  },
  {
   "cell_type": "code",
   "execution_count": null,
   "metadata": {
    "id": "douLG4DwUWbU"
   },
   "outputs": [],
   "source": [
    "image_name = data_name.iloc[1,1]\n",
    "image_path = os.path.join(wd, image_name)"
   ]
  },
  {
   "cell_type": "code",
   "execution_count": null,
   "metadata": {
    "id": "WqST8yvWUWbY",
    "outputId": "6140c17f-0307-4e33-ce67-78783e655b5f"
   },
   "outputs": [
    {
     "data": {
      "image/png": "[encoded data removed]",
      "text/plain": [
       "<Figure size 432x288 with 1 Axes>"
      ]
     },
     "metadata": {
      "needs_background": "light"
     },
     "output_type": "display_data"
    }
   ],
   "source": [
    "image = Image.open(image_path)\n",
    "plt.imshow(image, cmap='gray', vmin=0, vmax=255)\n",
    "plt.title(data_name.iloc[1,0])\n",
    "plt.show()"
   ]
  },
  {
   "cell_type": "code",
   "execution_count": null,
   "metadata": {
    "id": "lLMIHDrIUWbZ"
   },
   "outputs": [],
   "source": [
    "class Dataset(Dataset):\n",
    "    def __init__(self, csv_file, data_dir, transform=None):\n",
    "        \n",
    "        self.transform = transform\n",
    "        \n",
    "        self.data_dir = data_dir\n",
    "        data_dircsv_file = os.path.join(self.data_dir, csv_file)\n",
    "        \n",
    "        self.data_name = pd.read_csv(data_dircsv_file)\n",
    "        \n",
    "        self.len = self.data_name.shape[0]\n",
    "        \n",
    "    def __len__(self):\n",
    "        return self.len\n",
    "    \n",
    "    def __getitem__(self, idx):\n",
    "        \n",
    "        img_name = os.path.join(self.data_dir, self.data_name.iloc[idx,1])\n",
    "        image = Image.open(img_name)\n",
    "        \n",
    "        y = self.data_name.iloc[idx,0]\n",
    "        \n",
    "        if self.transform:\n",
    "            image = self.transform(image)\n",
    "        return image, y"
   ]
  },
  {
   "cell_type": "code",
   "execution_count": null,
   "metadata": {
    "id": "RG5O77tTUWba",
    "outputId": "31df4ed7-f4d9-4d9d-fc1b-f4f6146e276b"
   },
   "outputs": [
    {
     "data": {
      "text/plain": [
       "(<PIL.PngImagePlugin.PngImageFile image mode=L size=28x28 at 0x28C7FF5F1F0>,\n",
       " 'Ankle boot')"
      ]
     },
     "execution_count": 38,
     "metadata": {},
     "output_type": "execute_result"
    }
   ],
   "source": [
    "dataset = Dataset(csv_file=csv_file, data_dir=wd)\n",
    "dataset[0]"
   ]
  },
  {
   "cell_type": "code",
   "execution_count": null,
   "metadata": {
    "id": "e6ChAQMSUWba"
   },
   "outputs": [],
   "source": [
    "import torchvision.transforms as transforms"
   ]
  },
  {
   "cell_type": "code",
   "execution_count": null,
   "metadata": {
    "id": "rYcDzTVeUWba",
    "outputId": "f2f04e79-8f6e-4118-9919-2ca1531d470f"
   },
   "outputs": [
    {
     "data": {
      "text/plain": [
       "ToTensor()"
      ]
     },
     "execution_count": 40,
     "metadata": {},
     "output_type": "execute_result"
    }
   ],
   "source": [
    "transforms.CenterCrop(20)\n",
    "transforms.ToTensor()"
   ]
  },
  {
   "cell_type": "code",
   "execution_count": null,
   "metadata": {
    "id": "3m7DS9G1UWbb"
   },
   "outputs": [],
   "source": [
    "croptensor_data_tr = transforms.Compose([transforms.CenterCrop(20), transforms.ToTensor()])\n",
    "dataset = Dataset(csv_file = csv_file, data_dir = wd, transform=croptensor_data_tr)"
   ]
  },
  {
   "cell_type": "markdown",
   "metadata": {
    "id": "sPoPOsMeUWbb"
   },
   "source": [
    "## Prebuild Datasets and Transforms"
   ]
  },
  {
   "cell_type": "code",
   "execution_count": null,
   "metadata": {
    "id": "bSOW-Y2pUWbb",
    "outputId": "a2046289-d121-4d27-d545-bdc36753db85"
   },
   "outputs": [
    {
     "data": {
      "text/plain": [
       "<torch._C.Generator at 0x28c7a3cdfb0>"
      ]
     },
     "execution_count": 43,
     "metadata": {},
     "output_type": "execute_result"
    }
   ],
   "source": [
    "import torch\n",
    "import matplotlib.pylab as plt\n",
    "import numpy as np\n",
    "torch.manual_seed(0)"
   ]
  },
  {
   "cell_type": "code",
   "execution_count": null,
   "metadata": {
    "id": "YLuuP0HrUWbc"
   },
   "outputs": [],
   "source": [
    "# show data by diagram\n",
    "\n",
    "def show_data(data_sample, shape = (28,28)):\n",
    "    plt.imshow(data_sample[0].numpy().reshape(shape), cmap = 'gray')\n",
    "    plt.title('y='+str(data_sample[1]))"
   ]
  },
  {
   "cell_type": "code",
   "execution_count": null,
   "metadata": {
    "id": "gvfApnh0UWbc"
   },
   "outputs": [],
   "source": [
    "import torchvision.transforms as transforms\n",
    "import torchvision.datasets as dsets"
   ]
  },
  {
   "cell_type": "code",
   "execution_count": null,
   "metadata": {
    "id": "WA7CpqMvUWbc",
    "outputId": "5e268536-3597-429f-c013-3112c47d8056"
   },
   "outputs": [
    {
     "name": "stderr",
     "output_type": "stream",
     "text": [
      "c:\\python38\\lib\\site-packages\\torchvision\\datasets\\mnist.py:498: UserWarning: The given NumPy array is not writeable, and PyTorch does not support non-writeable tensors. This means you can write to the underlying (supposedly non-writeable) NumPy array using the tensor. You may want to copy the array to protect its data or make it writeable before converting it to a tensor. This type of warning will be suppressed for the rest of this program. (Triggered internally at  ..\\torch\\csrc\\utils\\tensor_numpy.cpp:180.)\n",
      "  return torch.from_numpy(parsed.astype(m[2], copy=False)).view(*s)\n"
     ]
    }
   ],
   "source": [
    "dataset = dsets.MNIST(\n",
    "    root = './data',\n",
    "    download = False,\n",
    "    transform = transforms.ToTensor())"
   ]
  },
  {
   "cell_type": "code",
   "execution_count": null,
   "metadata": {
    "id": "nEqsPz8eUWbd",
    "outputId": "340bbc82-b6bb-4c69-8437-422f7dbf417e"
   },
   "outputs": [
    {
     "name": "stdout",
     "output_type": "stream",
     "text": [
      "Type of the first element:  <class 'tuple'>\n",
      "The length of the tuple:  2\n",
      "The shape of the first element in the tuple:  torch.Size([1, 28, 28])\n",
      "The type of the first element in the tuple <class 'torch.Tensor'>\n",
      "The second element in the tuple:  5\n",
      "The type of the second element in the tuple:  <class 'int'>\n",
      "As the result, the structure of the first element in the dataset is (tensor([1, 28, 28]), tensor(7)).\n"
     ]
    }
   ],
   "source": [
    "print(\"Type of the first element: \", type(dataset[0]))\n",
    "print(\"The length of the tuple: \", len(dataset[0]))\n",
    "print(\"The shape of the first element in the tuple: \", dataset[0][0].shape)\n",
    "print(\"The type of the first element in the tuple\", type(dataset[0][0]))\n",
    "print(\"The second element in the tuple: \", dataset[0][1])\n",
    "print(\"The type of the second element in the tuple: \", type(dataset[0][1]))\n",
    "print(\"As the result, the structure of the first element in the dataset is (tensor([1, 28, 28]), tensor(7)).\")"
   ]
  },
  {
   "cell_type": "code",
   "execution_count": null,
   "metadata": {
    "id": "y3PfRRQnUWbd",
    "outputId": "4cf77746-b758-48e9-af81-f6e70619c98a"
   },
   "outputs": [
    {
     "data": {
      "image/png": "[encoded data removed]",
      "text/plain": [
       "<Figure size 432x288 with 1 Axes>"
      ]
     },
     "metadata": {
      "needs_background": "light"
     },
     "output_type": "display_data"
    }
   ],
   "source": [
    "show_data(dataset[0])"
   ]
  },
  {
   "cell_type": "code",
   "execution_count": null,
   "metadata": {
    "id": "TuyfTEDlUWbe",
    "outputId": "51730d14-333e-45aa-b991-4e949cef2270"
   },
   "outputs": [
    {
     "data": {
      "image/png": "[encoded data removed]",
      "text/plain": [
       "<Figure size 432x288 with 1 Axes>"
      ]
     },
     "metadata": {
      "needs_background": "light"
     },
     "output_type": "display_data"
    }
   ],
   "source": [
    "show_data(dataset[1])"
   ]
  },
  {
   "cell_type": "code",
   "execution_count": null,
   "metadata": {
    "id": "lk-ujyu8UWbe"
   },
   "outputs": [],
   "source": [
    "# transform\n",
    "\n",
    "crop_data_tr = transforms.Compose([transforms.CenterCrop(20), transforms.ToTensor()])\n",
    "dataset = dsets.MNIST(root = './data', download = True, transform = crop_data_tr)"
   ]
  },
  {
   "cell_type": "code",
   "execution_count": null,
   "metadata": {
    "id": "UUZeD4KQUWbf",
    "outputId": "9f399eaa-3556-468c-d870-28ed131e90f0"
   },
   "outputs": [
    {
     "data": {
      "image/png": "[encoded data removed]",
      "text/plain": [
       "<Figure size 432x288 with 1 Axes>"
      ]
     },
     "metadata": {
      "needs_background": "light"
     },
     "output_type": "display_data"
    }
   ],
   "source": [
    "show_data(dataset[0], shape = (20,20))"
   ]
  },
  {
   "cell_type": "code",
   "execution_count": null,
   "metadata": {
    "id": "D8h5G7Z3UWbg",
    "outputId": "3835ad22-a79d-43e6-8ea9-8b35b0aac5cf"
   },
   "outputs": [
    {
     "data": {
      "image/png": "[encoded data removed]",
      "text/plain": [
       "<Figure size 432x288 with 1 Axes>"
      ]
     },
     "metadata": {
      "needs_background": "light"
     },
     "output_type": "display_data"
    }
   ],
   "source": [
    "# Practice: Combine vertical flip, horizontal flip and convert to tensor as a compose. Apply the compose on image. Then plot the image\n",
    "\n",
    "random_data_tr = transforms.Compose([transforms.RandomVerticalFlip(p=1), transforms.RandomHorizontalFlip(p=1), transforms.ToTensor()])\n",
    "dataset = dsets.MNIST(root = './data', train = False, download = True, transform = random_data_tr )\n",
    "show_data(dataset[1])"
   ]
  },
  {
   "cell_type": "markdown",
   "metadata": {
    "id": "tIINY24uUWbh"
   },
   "source": [
    "# Week 2 - Linear Regression"
   ]
  },
  {
   "cell_type": "code",
   "execution_count": null,
   "metadata": {
    "id": "GY2Vlv43UWbh"
   },
   "outputs": [],
   "source": [
    "import torch"
   ]
  },
  {
   "cell_type": "code",
   "execution_count": null,
   "metadata": {
    "colab": {
     "base_uri": "https://localhost:8080/"
    },
    "executionInfo": {
     "elapsed": 215,
     "status": "ok",
     "timestamp": 1630935967138,
     "user": {
      "displayName": "Kleyton da Costa",
      "photoUrl": "https://lh3.googleusercontent.com/a-/AOh14Gi4FvI3FVxRTumtqHl6_ESWSialxZIC43ACeXfI3A=s64",
      "userId": "04061528204186357662"
     },
     "user_tz": 180
    },
    "id": "jMh6DVgHVorY",
    "outputId": "6dc264d8-b344-4292-b102-8cd40abfe6d9"
   },
   "outputs": [
    {
     "data": {
      "text/plain": [
       "tensor([[1.],\n",
       "        [5.]], grad_fn=<AddBackward0>)"
      ]
     },
     "execution_count": 6,
     "metadata": {},
     "output_type": "execute_result"
    }
   ],
   "source": [
    "w = torch.tensor(2.0, requires_grad= True)\n",
    "b = torch.tensor(-1.0, requires_grad= True)\n",
    "\n",
    "def forward(x):\n",
    "  y = w*x+b\n",
    "  return y\n",
    "\n",
    "x = torch.tensor([[1.0], [3.0]])\n",
    "yhat = forward(x)\n",
    "yhat"
   ]
  },
  {
   "cell_type": "markdown",
   "metadata": {
    "id": "HUpCz-D4WPzN"
   },
   "source": [
    "The tensors *a* and *b* are parameters of model and we have to learn them, so we set the parameter *requires_grad=True*.\n",
    "\n"
   ]
  },
  {
   "cell_type": "code",
   "execution_count": null,
   "metadata": {
    "id": "oIL3phOGWBwu"
   },
   "outputs": [],
   "source": [
    "import torch.nn as nn"
   ]
  },
  {
   "cell_type": "code",
   "execution_count": null,
   "metadata": {
    "colab": {
     "base_uri": "https://localhost:8080/"
    },
    "executionInfo": {
     "elapsed": 203,
     "status": "ok",
     "timestamp": 1630936214604,
     "user": {
      "displayName": "Kleyton da Costa",
      "photoUrl": "https://lh3.googleusercontent.com/a-/AOh14Gi4FvI3FVxRTumtqHl6_ESWSialxZIC43ACeXfI3A=s64",
      "userId": "04061528204186357662"
     },
     "user_tz": 180
    },
    "id": "OdJobhLdX4Yu",
    "outputId": "4fe06f86-db0a-484a-88c8-82da9a1a28bc"
   },
   "outputs": [
    {
     "data": {
      "text/plain": [
       "<torch._C.Generator at 0x7febfe1a9b10>"
      ]
     },
     "execution_count": 8,
     "metadata": {},
     "output_type": "execute_result"
    }
   ],
   "source": [
    "torch.manual_seed(1)"
   ]
  },
  {
   "cell_type": "code",
   "execution_count": null,
   "metadata": {
    "colab": {
     "base_uri": "https://localhost:8080/"
    },
    "executionInfo": {
     "elapsed": 229,
     "status": "ok",
     "timestamp": 1630936264899,
     "user": {
      "displayName": "Kleyton da Costa",
      "photoUrl": "https://lh3.googleusercontent.com/a-/AOh14Gi4FvI3FVxRTumtqHl6_ESWSialxZIC43ACeXfI3A=s64",
      "userId": "04061528204186357662"
     },
     "user_tz": 180
    },
    "id": "cFhB5njMX7FM",
    "outputId": "b615abe3-623e-4484-c845-aa973fc6bf1b"
   },
   "outputs": [
    {
     "name": "stdout",
     "output_type": "stream",
     "text": [
      "[Parameter containing:\n",
      "tensor([[0.5153]], requires_grad=True), Parameter containing:\n",
      "tensor([-0.4414], requires_grad=True)]\n"
     ]
    }
   ],
   "source": [
    "#1D linear regression model\n",
    "model = nn.Linear(in_features=1, out_features=1)\n",
    "print(list(model.parameters()))"
   ]
  },
  {
   "cell_type": "code",
   "execution_count": null,
   "metadata": {
    "colab": {
     "base_uri": "https://localhost:8080/"
    },
    "executionInfo": {
     "elapsed": 197,
     "status": "ok",
     "timestamp": 1630936327943,
     "user": {
      "displayName": "Kleyton da Costa",
      "photoUrl": "https://lh3.googleusercontent.com/a-/AOh14Gi4FvI3FVxRTumtqHl6_ESWSialxZIC43ACeXfI3A=s64",
      "userId": "04061528204186357662"
     },
     "user_tz": 180
    },
    "id": "6NCefR6cYHbE",
    "outputId": "29d2e1cd-a40c-4524-acae-54c43d5608dc"
   },
   "outputs": [
    {
     "data": {
      "text/plain": [
       "tensor([[0.0739],\n",
       "        [0.5891]], grad_fn=<AddmmBackward>)"
      ]
     },
     "execution_count": 11,
     "metadata": {},
     "output_type": "execute_result"
    }
   ],
   "source": [
    "x = torch.tensor([[1.0],[2.0]])\n",
    "yhat = model(x)\n",
    "yhat"
   ]
  },
  {
   "cell_type": "code",
   "execution_count": null,
   "metadata": {
    "colab": {
     "base_uri": "https://localhost:8080/"
    },
    "executionInfo": {
     "elapsed": 235,
     "status": "ok",
     "timestamp": 1630936750515,
     "user": {
      "displayName": "Kleyton da Costa",
      "photoUrl": "https://lh3.googleusercontent.com/a-/AOh14Gi4FvI3FVxRTumtqHl6_ESWSialxZIC43ACeXfI3A=s64",
      "userId": "04061528204186357662"
     },
     "user_tz": 180
    },
    "id": "r52MAMrIYdv7",
    "outputId": "145f2db5-5708-4498-f449-d64ca83cabc1"
   },
   "outputs": [
    {
     "name": "stdout",
     "output_type": "stream",
     "text": [
      "[Parameter containing:\n",
      "tensor([[-0.9414]], requires_grad=True), Parameter containing:\n",
      "tensor([0.5997], requires_grad=True)]\n"
     ]
    }
   ],
   "source": [
    "# custom modules\n",
    "class LinearRegression(nn.Module):\n",
    "  def __init__(self, input_size, output_size):\n",
    "    super(LinearRegression, self).__init__()\n",
    "    self.linear = nn.Linear(input_size, output_size)\n",
    "\n",
    "  def forward(self, x):\n",
    "    out = self.linear(x)\n",
    "    return out\n",
    "\n",
    "model = LinearRegression(1,1)\n",
    "print(list(model.parameters()))"
   ]
  },
  {
   "cell_type": "code",
   "execution_count": null,
   "metadata": {
    "colab": {
     "base_uri": "https://localhost:8080/"
    },
    "executionInfo": {
     "elapsed": 214,
     "status": "ok",
     "timestamp": 1630936796894,
     "user": {
      "displayName": "Kleyton da Costa",
      "photoUrl": "https://lh3.googleusercontent.com/a-/AOh14Gi4FvI3FVxRTumtqHl6_ESWSialxZIC43ACeXfI3A=s64",
      "userId": "04061528204186357662"
     },
     "user_tz": 180
    },
    "id": "TTX_JBhqZ-bk",
    "outputId": "1d14bb08-c3b1-4974-9c42-95daee1c42cf"
   },
   "outputs": [
    {
     "data": {
      "text/plain": [
       "tensor([[-0.3417],\n",
       "        [-2.2246],\n",
       "        [-5.0489]], grad_fn=<AddmmBackward>)"
      ]
     },
     "execution_count": 16,
     "metadata": {},
     "output_type": "execute_result"
    }
   ],
   "source": [
    "x = torch.tensor([[1.0],[3.0], [6.0]])\n",
    "yhat = model(x)\n",
    "yhat"
   ]
  },
  {
   "cell_type": "markdown",
   "metadata": {
    "id": "ELysJmPbiA59"
   },
   "source": [
    "- Illustration of a dataset using mathematical notation:\n",
    "\n",
    "$$D=\\{(x_{1}, y_{1}), \\dots, (x_{N}, y_{N})\\}$$\n",
    "\n",
    "- Mean Squared Error or Cost Function\n",
    "$$L(w,b) = \\frac{1}{N}\\sum^{N}_{n=1}(y_{n}-(wx_{n}+b))^{2}$$\n",
    "\n",
    "The Loss lets you know how good your estimate is and is dependent on your parameter value.\n",
    "\n",
    "To find the best value for the slope we use the minimum $\\frac{dl(w)}{dw}=0$.\n",
    "\n",
    "### Gradient Descent\n",
    "\n",
    "$$w^{0}$$\n",
    "$$w^{1}=w^{0}-\\eta\\frac{dl(w^{0}}{dw}$$\n",
    "$$w^{2}=w^{1}-\\eta\\frac{dl(w^{1}}{dw}$$\n",
    "$$w^{k+1}=w^{k}-\\eta\\frac{dl(w^{k}}{dw}$$\n",
    "$$\\eta=\\text{learning rate}$$\n",
    "\n",
    "When stop gradient descent?\n",
    "\n",
    "- See when the losses start to increase;\n",
    "\n",
    "### Cost\n",
    "\n",
    "$$\\frac{dl(w)}{dw}=-\\frac{2}{N}\\sum^{N}_{n=1}(y_{n}-wx_{n})x_{n}$$"
   ]
  },
  {
   "cell_type": "markdown",
   "metadata": {
    "id": "G0PX2Q2fcDIe"
   },
   "source": [
    "# Week 2 - Linear Regression"
   ]
  },
  {
   "cell_type": "code",
   "execution_count": 3,
   "metadata": {
    "executionInfo": {
     "elapsed": 254,
     "status": "ok",
     "timestamp": 1631239824431,
     "user": {
      "displayName": "Kleyton da Costa",
      "photoUrl": "https://lh3.googleusercontent.com/a-/AOh14Gi4FvI3FVxRTumtqHl6_ESWSialxZIC43ACeXfI3A=s64",
      "userId": "04061528204186357662"
     },
     "user_tz": 180
    },
    "id": "dUELtA1jb2zQ"
   },
   "outputs": [],
   "source": [
    "import torch\n",
    "import matplotlib.pyplot as plt"
   ]
  },
  {
   "cell_type": "code",
   "execution_count": 26,
   "metadata": {
    "colab": {
     "base_uri": "https://localhost:8080/",
     "height": 279
    },
    "executionInfo": {
     "elapsed": 384,
     "status": "ok",
     "timestamp": 1631242009493,
     "user": {
      "displayName": "Kleyton da Costa",
      "photoUrl": "https://lh3.googleusercontent.com/a-/AOh14Gi4FvI3FVxRTumtqHl6_ESWSialxZIC43ACeXfI3A=s64",
      "userId": "04061528204186357662"
     },
     "user_tz": 180
    },
    "id": "_BVtgF-od1kF",
    "outputId": "d4cb07df-9beb-412a-f12d-cd2aa25972b6"
   },
   "outputs": [
    {
     "data": {
      "image/png": "[encoded data removed]",
      "text/plain": [
       "<Figure size 432x288 with 1 Axes>"
      ]
     },
     "metadata": {
      "needs_background": "light"
     },
     "output_type": "display_data"
    }
   ],
   "source": [
    "w = torch.tensor(-10.0, requires_grad=True)\n",
    "X = torch.arange(-3,3,0.1).view(-1,1)\n",
    "f = -3*X\n",
    "\n",
    "plt.plot(X.numpy(), f.numpy(), label = 'f')\n",
    "plt.xlabel('x')\n",
    "plt.ylabel('y')\n",
    "plt.legend()\n",
    "plt.show()"
   ]
  },
  {
   "cell_type": "code",
   "execution_count": 27,
   "metadata": {
    "colab": {
     "base_uri": "https://localhost:8080/",
     "height": 279
    },
    "executionInfo": {
     "elapsed": 307,
     "status": "ok",
     "timestamp": 1631242086938,
     "user": {
      "displayName": "Kleyton da Costa",
      "photoUrl": "https://lh3.googleusercontent.com/a-/AOh14Gi4FvI3FVxRTumtqHl6_ESWSialxZIC43ACeXfI3A=s64",
      "userId": "04061528204186357662"
     },
     "user_tz": 180
    },
    "id": "DFDNQJxreTrs",
    "outputId": "ba0b3c8b-473d-48c9-8df1-a6654f51ee45"
   },
   "outputs": [
    {
     "data": {
      "image/png": "[encoded data removed]",
      "text/plain": [
       "<Figure size 432x288 with 1 Axes>"
      ]
     },
     "metadata": {
      "needs_background": "light"
     },
     "output_type": "display_data"
    }
   ],
   "source": [
    "Y = f+0.1*torch.randn(X.size())\n",
    "\n",
    "plt.plot(X.numpy(), Y.numpy(), 'rx', label = 'Y')\n",
    "\n",
    "plt.plot(X.numpy(), f.numpy(), label='f')\n",
    "plt.xlabel('x')\n",
    "plt.ylabel('y')\n",
    "plt.legend()\n",
    "plt.show()"
   ]
  },
  {
   "cell_type": "code",
   "execution_count": 24,
   "metadata": {
    "executionInfo": {
     "elapsed": 239,
     "status": "ok",
     "timestamp": 1631241947093,
     "user": {
      "displayName": "Kleyton da Costa",
      "photoUrl": "https://lh3.googleusercontent.com/a-/AOh14Gi4FvI3FVxRTumtqHl6_ESWSialxZIC43ACeXfI3A=s64",
      "userId": "04061528204186357662"
     },
     "user_tz": 180
    },
    "id": "glD2h-EZeg3q"
   },
   "outputs": [],
   "source": [
    "def forward(x):\n",
    "  return w*x\n",
    "\n",
    "def criterion(yhat,y):\n",
    "  return torch.mean((yhat-y)**2)\n",
    "\n",
    "class plot_diagram():\n",
    "    \n",
    "    # Constructor\n",
    "    def __init__(self, X, Y, w, stop, go = False):\n",
    "        start = w.data\n",
    "        self.error = []\n",
    "        self.parameter = []\n",
    "        self.X = X.numpy()\n",
    "        self.Y = Y.numpy()\n",
    "        self.parameter_values = torch.arange(start, stop)\n",
    "        self.Loss_function = [criterion(forward(X), Y) for w.data in self.parameter_values] \n",
    "        w.data = start\n",
    "        \n",
    "    # Executor\n",
    "    def __call__(self, Yhat, w, error, n):\n",
    "        self.error.append(error)\n",
    "        self.parameter.append(w.data)\n",
    "        plt.subplot(212)\n",
    "        plt.plot(self.X, Yhat.detach().numpy())\n",
    "        plt.plot(self.X, self.Y,'ro')\n",
    "        plt.xlabel(\"A\")\n",
    "        plt.ylim(-20, 20)\n",
    "        plt.subplot(211)\n",
    "        plt.title(\"Data Space (top) Estimated Line (bottom) Iteration \" + str(n))\n",
    "        plt.plot(self.parameter_values.numpy(), self.Loss_function)   \n",
    "        plt.plot(self.parameter, self.error, 'ro')\n",
    "        plt.xlabel(\"B\")\n",
    "        plt.figure()\n",
    "    \n",
    "    # Destructor\n",
    "    def __del__(self):\n",
    "        plt.close('all')  "
   ]
  },
  {
   "cell_type": "code",
   "execution_count": 30,
   "metadata": {
    "colab": {
     "base_uri": "https://localhost:8080/"
    },
    "executionInfo": {
     "elapsed": 232,
     "status": "ok",
     "timestamp": 1631242214625,
     "user": {
      "displayName": "Kleyton da Costa",
      "photoUrl": "https://lh3.googleusercontent.com/a-/AOh14Gi4FvI3FVxRTumtqHl6_ESWSialxZIC43ACeXfI3A=s64",
      "userId": "04061528204186357662"
     },
     "user_tz": 180
    },
    "id": "YncxPNqgexUq",
    "outputId": "19545483-a69e-4645-8aba-9262d1f2d0f5"
   },
   "outputs": [
    {
     "data": {
      "text/plain": [
       "<__main__.plot_diagram at 0x7f8d27af4dd0>"
      ]
     },
     "execution_count": 30,
     "metadata": {},
     "output_type": "execute_result"
    }
   ],
   "source": [
    "lr = 0.2\n",
    "LOSS = []\n",
    "\n",
    "gradient_plot = plot_diagram(X,Y,w,stop=5)"
   ]
  },
  {
   "cell_type": "code",
   "execution_count": 31,
   "metadata": {
    "executionInfo": {
     "elapsed": 241,
     "status": "ok",
     "timestamp": 1631242251878,
     "user": {
      "displayName": "Kleyton da Costa",
      "photoUrl": "https://lh3.googleusercontent.com/a-/AOh14Gi4FvI3FVxRTumtqHl6_ESWSialxZIC43ACeXfI3A=s64",
      "userId": "04061528204186357662"
     },
     "user_tz": 180
    },
    "id": "2cTmbDzXnVhb"
   },
   "outputs": [],
   "source": [
    "def train_model(iter):\n",
    "    for epoch in range (iter):\n",
    "        \n",
    "        # make the prediction as we learned in the last lab\n",
    "        Yhat = forward(X)\n",
    "        \n",
    "        # calculate the iteration\n",
    "        loss = criterion(Yhat,Y)\n",
    "        \n",
    "        # plot the diagram for us to have a better idea\n",
    "        gradient_plot(Yhat, w, loss.item(), epoch)\n",
    "        \n",
    "        # store the loss into list\n",
    "        LOSS.append(loss.item())\n",
    "        \n",
    "        # backward pass: compute gradient of the loss with respect to all the learnable parameters\n",
    "        loss.backward()\n",
    "        \n",
    "        # updata parameters\n",
    "        w.data = w.data - lr * w.grad.data\n",
    "        \n",
    "        # zero the gradients before running the backward pass\n",
    "        w.grad.data.zero_()"
   ]
  },
  {
   "cell_type": "code",
   "execution_count": 32,
   "metadata": {
    "colab": {
     "base_uri": "https://localhost:8080/",
     "height": 1000
    },
    "executionInfo": {
     "elapsed": 1890,
     "status": "ok",
     "timestamp": 1631242267805,
     "user": {
      "displayName": "Kleyton da Costa",
      "photoUrl": "https://lh3.googleusercontent.com/a-/AOh14Gi4FvI3FVxRTumtqHl6_ESWSialxZIC43ACeXfI3A=s64",
      "userId": "04061528204186357662"
     },
     "user_tz": 180
    },
    "id": "RwM86If5nYf2",
    "outputId": "d5365259-26e2-4b69-dff7-825b84a8c73e"
   },
   "outputs": [
    {
     "data": {
      "image/png": "[encoded data removed]",
      "text/plain": [
       "<Figure size 432x288 with 2 Axes>"
      ]
     },
     "metadata": {
      "needs_background": "light"
     },
     "output_type": "display_data"
    },
    {
     "data": {
      "image/png": "[encoded data removed]",
      "text/plain": [
       "<Figure size 432x288 with 2 Axes>"
      ]
     },
     "metadata": {
      "needs_background": "light"
     },
     "output_type": "display_data"
    },
    {
     "data": {
      "image/png": "[encoded data removed]",
      "text/plain": [
       "<Figure size 432x288 with 2 Axes>"
      ]
     },
     "metadata": {
      "needs_background": "light"
     },
     "output_type": "display_data"
    },
    {
     "data": {
      "image/png": "[encoded data removed]",
      "text/plain": [
       "<Figure size 432x288 with 2 Axes>"
      ]
     },
     "metadata": {
      "needs_background": "light"
     },
     "output_type": "display_data"
    },
    {
     "data": {
      "text/plain": [
       "<Figure size 432x288 with 0 Axes>"
      ]
     },
     "metadata": {},
     "output_type": "display_data"
    }
   ],
   "source": [
    "train_model(4)"
   ]
  },
  {
   "cell_type": "code",
   "execution_count": 33,
   "metadata": {
    "colab": {
     "base_uri": "https://localhost:8080/",
     "height": 328
    },
    "executionInfo": {
     "elapsed": 661,
     "status": "ok",
     "timestamp": 1631242327787,
     "user": {
      "displayName": "Kleyton da Costa",
      "photoUrl": "https://lh3.googleusercontent.com/a-/AOh14Gi4FvI3FVxRTumtqHl6_ESWSialxZIC43ACeXfI3A=s64",
      "userId": "04061528204186357662"
     },
     "user_tz": 180
    },
    "id": "y6Wxft2GnfHR",
    "outputId": "6f6ceaa3-e76e-4a15-bc38-9ef73226aaa3"
   },
   "outputs": [
    {
     "data": {
      "text/plain": [
       "Text(24.0, 0.5, 'Cost')"
      ]
     },
     "execution_count": 33,
     "metadata": {},
     "output_type": "execute_result"
    },
    {
     "data": {
      "image/png": "[encoded data removed]",
      "text/plain": [
       "<Figure size 432x288 with 1 Axes>"
      ]
     },
     "metadata": {
      "needs_background": "light"
     },
     "output_type": "display_data"
    }
   ],
   "source": [
    "plt.plot(LOSS)\n",
    "plt.tight_layout()\n",
    "plt.xlabel('Epoch/Iterations')\n",
    "plt.ylabel('Cost')"
   ]
  },
  {
   "cell_type": "markdown",
   "metadata": {
    "id": "tX0NgKZ4nrIL"
   },
   "source": [
    "# Pytorch Linear Regression Training Slope and Bias"
   ]
  },
  {
   "cell_type": "code",
   "execution_count": null,
   "metadata": {},
   "outputs": [],
   "source": []
  }
 ],
 "metadata": {
  "colab": {
   "name": "IBM-deep-learning-pytorch.ipynb",
   "provenance": []
  },
  "kernelspec": {
   "display_name": "Python 3 (ipykernel)",
   "language": "python",
   "name": "python3"
  },
  "language_info": {
   "codemirror_mode": {
    "name": "ipython",
    "version": 3
   },
   "file_extension": ".py",
   "mimetype": "text/x-python",
   "name": "python",
   "nbconvert_exporter": "python",
   "pygments_lexer": "ipython3",
   "version": "3.9.7"
  }
 },
 "nbformat": 4,
 "nbformat_minor": 1
}
